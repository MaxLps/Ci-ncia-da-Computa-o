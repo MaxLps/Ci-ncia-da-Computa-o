{
 "cells": [
  {
   "cell_type": "markdown",
   "metadata": {},
   "source": [
    "# Experimento Utilizando PCA com Regressor\n",
    "\n",
    "O PCA é um algoritmo de machine learning não supervisionado que tenta reduzir a dimensionalidade (número de recursos) em um conjunto de dados enquanto mantém o maior número possível de informações.\n",
    "\n",
    "## Conjunto de dados do repositório UCI\n",
    "\n",
    "\n"
   ]
  },
  {
   "cell_type": "code",
   "execution_count": 1,
   "metadata": {},
   "outputs": [
    {
     "ename": "FileNotFoundError",
     "evalue": "[Errno 2] No such file or directory: 'caminho/para/seu/arquivo.zip'",
     "output_type": "error",
     "traceback": [
      "\u001b[1;31m---------------------------------------------------------------------------\u001b[0m",
      "\u001b[1;31mFileNotFoundError\u001b[0m                         Traceback (most recent call last)",
      "\u001b[1;32mc:\\Users\\maxwe\\OneDrive\\Documentos\\GitHub\\Ciencia-da-Computacao\\Aprendizado de Máquina - 6º período\\Trabalho PCA\\Trabalho PCA.ipynb Célula 2\u001b[0m line \u001b[0;36m1\n\u001b[0;32m      <a href='vscode-notebook-cell:/c%3A/Users/maxwe/OneDrive/Documentos/GitHub/Ciencia-da-Computacao/Aprendizado%20de%20M%C3%A1quina%20-%206%C2%BA%20per%C3%ADodo/Trabalho%20PCA/Trabalho%20PCA.ipynb#W0sZmlsZQ%3D%3D?line=7'>8</a>\u001b[0m diretorio_destino \u001b[39m=\u001b[39m \u001b[39m'\u001b[39m\u001b[39mcaminho/para/destino/\u001b[39m\u001b[39m'\u001b[39m\n\u001b[0;32m     <a href='vscode-notebook-cell:/c%3A/Users/maxwe/OneDrive/Documentos/GitHub/Ciencia-da-Computacao/Aprendizado%20de%20M%C3%A1quina%20-%206%C2%BA%20per%C3%ADodo/Trabalho%20PCA/Trabalho%20PCA.ipynb#W0sZmlsZQ%3D%3D?line=9'>10</a>\u001b[0m \u001b[39m# Extrair o arquivo CSV do arquivo zip\u001b[39;00m\n\u001b[1;32m---> <a href='vscode-notebook-cell:/c%3A/Users/maxwe/OneDrive/Documentos/GitHub/Ciencia-da-Computacao/Aprendizado%20de%20M%C3%A1quina%20-%206%C2%BA%20per%C3%ADodo/Trabalho%20PCA/Trabalho%20PCA.ipynb#W0sZmlsZQ%3D%3D?line=10'>11</a>\u001b[0m \u001b[39mwith\u001b[39;00m zipfile\u001b[39m.\u001b[39;49mZipFile(caminho_arquivo_zip, \u001b[39m'\u001b[39;49m\u001b[39mr\u001b[39;49m\u001b[39m'\u001b[39;49m) \u001b[39mas\u001b[39;00m zip_ref:\n\u001b[0;32m     <a href='vscode-notebook-cell:/c%3A/Users/maxwe/OneDrive/Documentos/GitHub/Ciencia-da-Computacao/Aprendizado%20de%20M%C3%A1quina%20-%206%C2%BA%20per%C3%ADodo/Trabalho%20PCA/Trabalho%20PCA.ipynb#W0sZmlsZQ%3D%3D?line=11'>12</a>\u001b[0m     \u001b[39m# Lista os arquivos no zip para verificação\u001b[39;00m\n\u001b[0;32m     <a href='vscode-notebook-cell:/c%3A/Users/maxwe/OneDrive/Documentos/GitHub/Ciencia-da-Computacao/Aprendizado%20de%20M%C3%A1quina%20-%206%C2%BA%20per%C3%ADodo/Trabalho%20PCA/Trabalho%20PCA.ipynb#W0sZmlsZQ%3D%3D?line=12'>13</a>\u001b[0m     \u001b[39mprint\u001b[39m(zip_ref\u001b[39m.\u001b[39mnamelist())\n\u001b[0;32m     <a href='vscode-notebook-cell:/c%3A/Users/maxwe/OneDrive/Documentos/GitHub/Ciencia-da-Computacao/Aprendizado%20de%20M%C3%A1quina%20-%206%C2%BA%20per%C3%ADodo/Trabalho%20PCA/Trabalho%20PCA.ipynb#W0sZmlsZQ%3D%3D?line=14'>15</a>\u001b[0m     \u001b[39m# Extrai apenas o arquivo winequality-red.csv para o diretório especificado\u001b[39;00m\n",
      "File \u001b[1;32mC:\\Program Files\\WindowsApps\\PythonSoftwareFoundation.Python.3.11_3.11.1776.0_x64__qbz5n2kfra8p0\\Lib\\zipfile.py:1284\u001b[0m, in \u001b[0;36mZipFile.__init__\u001b[1;34m(self, file, mode, compression, allowZip64, compresslevel, strict_timestamps, metadata_encoding)\u001b[0m\n\u001b[0;32m   1282\u001b[0m \u001b[39mwhile\u001b[39;00m \u001b[39mTrue\u001b[39;00m:\n\u001b[0;32m   1283\u001b[0m     \u001b[39mtry\u001b[39;00m:\n\u001b[1;32m-> 1284\u001b[0m         \u001b[39mself\u001b[39m\u001b[39m.\u001b[39mfp \u001b[39m=\u001b[39m io\u001b[39m.\u001b[39;49mopen(file, filemode)\n\u001b[0;32m   1285\u001b[0m     \u001b[39mexcept\u001b[39;00m \u001b[39mOSError\u001b[39;00m:\n\u001b[0;32m   1286\u001b[0m         \u001b[39mif\u001b[39;00m filemode \u001b[39min\u001b[39;00m modeDict:\n",
      "\u001b[1;31mFileNotFoundError\u001b[0m: [Errno 2] No such file or directory: 'caminho/para/seu/arquivo.zip'"
     ]
    }
   ],
   "source": [
    "import zipfile\n",
    "import os\n",
    "import pandas as pd\n",
    "\n",
    "# URL do arquivo zip do UCI Wine Quality\n",
    "url = 'https://archive.ics.uci.edu/static/public/186/wine+quality.zip'\n",
    "\n",
    "# Diretório onde você deseja salvar o arquivo zip\n",
    "local_zip_filename = 'wine_quality.zip'\n",
    "\n",
    "# Baixar o arquivo zip para o diretório local\n",
    "# (se você já baixou, pode pular esta parte e seguir com a extração)\n",
    "import wget\n",
    "wget.download(url, local_zip_filename)\n",
    "\n",
    "# Diretório onde você deseja extrair o arquivo CSV\n",
    "diretorio_destino = 'caminho/para/destino/'\n",
    "\n",
    "# Extrair o arquivo CSV do arquivo zip\n",
    "with zipfile.ZipFile(local_zip_filename, 'r') as zip_ref:\n",
    "    zip_ref.extract('winequality-red.csv', diretorio_destino)\n",
    "\n",
    "# Ler o arquivo CSV em uma variável utilizando o pandas\n",
    "caminho_arquivo_extraido = os.path.join(diretorio_destino, 'winequality-red.csv')\n",
    "dados = pd.read_csv(caminho_arquivo_extraido)\n",
    "\n",
    "# Imprimir os primeiros registros para verificar se os dados foram carregados corretamente\n",
    "print(dados.head())\n"
   ]
  }
 ],
 "metadata": {
  "kernelspec": {
   "display_name": "Python 3",
   "language": "python",
   "name": "python3"
  },
  "language_info": {
   "codemirror_mode": {
    "name": "ipython",
    "version": 3
   },
   "file_extension": ".py",
   "mimetype": "text/x-python",
   "name": "python",
   "nbconvert_exporter": "python",
   "pygments_lexer": "ipython3",
   "version": "3.11.6"
  }
 },
 "nbformat": 4,
 "nbformat_minor": 2
}
