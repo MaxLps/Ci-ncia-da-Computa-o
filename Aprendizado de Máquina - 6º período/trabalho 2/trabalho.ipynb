{
 "cells": [
  {
   "cell_type": "code",
   "execution_count": 156,
   "metadata": {},
   "outputs": [],
   "source": [
    "from sklearn.base import BaseEstimator\n",
    "import matplotlib.pyplot as plt\n",
    "import numpy as np\n",
    "import pandas as pd\n",
    "import random\n",
    "from sklearn.model_selection import train_test_split\n",
    "import zipfile\n",
    "import io\n",
    "import requests"
   ]
  },
  {
   "cell_type": "markdown",
   "metadata": {},
   "source": [
    "# A função h calcula a hipótese de regressão linear usando o vetor de coeficientes 'theta' e os recursos 'x[i]'."
   ]
  },
  {
   "cell_type": "code",
   "execution_count": 157,
   "metadata": {},
   "outputs": [],
   "source": [
    "def h(x, i, theta):\n",
    "    \n",
    "    h = theta[0]\n",
    "    \n",
    "    for j in range(1, len(theta)):\n",
    "        h += x[i][j-1] * theta[j]\n",
    "    \n",
    "    return h"
   ]
  },
  {
   "cell_type": "markdown",
   "metadata": {},
   "source": [
    "# Implementação do algoritmo de gradiente descendente para otimizar os coeficientes 'theta'.\n"
   ]
  },
  {
   "cell_type": "code",
   "execution_count": 158,
   "metadata": {},
   "outputs": [],
   "source": [
    "ALFA = 0.0000001\n",
    "\n",
    "eixo_X = []\n",
    "eixo_Y = []\n",
    "\n",
    "def gradiente_descendente(x,y,theta):\n",
    "    #temp = [0] * len(theta)    # Lista temporária para armazenar os novos valores de theta\n",
    "    \n",
    "    m = len(x)              # Número de exemplos de treinamento\n",
    "    n = len(theta)          # Número de coeficientes theta\n",
    "    \n",
    "    #max_diff = 10\n",
    "    ite = 0\n",
    "    while ite < 60000:   # Critério de parada: diferença máxima entre os valores antigos e novos de theta  \n",
    "        eixo_Y.append(ite)\n",
    "        custo = 0\n",
    "        for i in range(m):    # Loop sobre os exemplos de treinamento\n",
    "            hip = h(x, i, theta)    # Calcula a hipótese para o exemplo i\n",
    "            custo += hip - y[i]  \n",
    "        \n",
    "        custo = 1/m * custo     \n",
    "        eixo_X.append(abs(custo))\n",
    "        \n",
    "        theta[0] = theta[0] - ALFA * custo  # Atualiza temp[0] usando a taxa de aprendizado\n",
    "        for j in range(1, n):\n",
    "            theta[j] = theta[j] - ALFA * custo * x[i][j-1]   \n",
    "        \n",
    "        ite += 1"
   ]
  },
  {
   "cell_type": "code",
   "execution_count": 159,
   "metadata": {},
   "outputs": [],
   "source": [
    "def solucao_analitica(x,y,theta):\n",
    "    m = len(y)\n",
    "    \n",
    "    xt =  x.transpose()\n",
    "    \n",
    "    theta[:] = (2/m) * np.linalg.pinv(xt @ x) @ xt @ y\n",
    "    "
   ]
  },
  {
   "cell_type": "code",
   "execution_count": 160,
   "metadata": {},
   "outputs": [],
   "source": [
    "class LMSTrainer(BaseEstimator):\n",
    "    \n",
    "    def __init__(self, analitic=False):\n",
    "            \n",
    "        self.analitic = analitic\n",
    "        self._trained = False\n",
    "            \n",
    "    def fit(self, X, theta,y=None):\n",
    "        if self.analitic:\n",
    "            \n",
    "            coluna_um = [1] * len(y)\n",
    "            x2 = np.insert(X, 0, coluna_um, axis=1)\n",
    "            \n",
    "            solucao_analitica(x2,y,theta)\n",
    "            \n",
    "        else:\n",
    "            gradiente_descendente(X,y, theta)\n",
    "        \n",
    "        self._trained = True\n",
    "        \n",
    "        return self\n",
    "        \n",
    "    def predict(self, X, theta, y=None):\n",
    "        \n",
    "        if not self._trained:\n",
    "            raise RuntimeError(\"You must train classifer before predicting data!\")\n",
    "        \n",
    "        teste = [0] * len(y)\n",
    "        gab = [0] * len(y)\n",
    "        for i in range(len(y)):\n",
    "            teste[i] = int(h(X, i, theta))\n",
    "            gab[i] = y[i]\n",
    "        \n",
    "\n",
    "        print(\"Teste:\")\n",
    "        print(teste)\n",
    "        print(\"Gabarito:\")\n",
    "        print(gab)"
   ]
  },
  {
   "cell_type": "markdown",
   "metadata": {},
   "source": [
    "# DataFrame : https://archive.ics.uci.edu/dataset/492/metro+interstate+traffic+volume\n",
    "# Normalizando DataFrame"
   ]
  },
  {
   "cell_type": "code",
   "execution_count": 161,
   "metadata": {},
   "outputs": [],
   "source": [
    "# URL direto para o arquivo ZIP\n",
    "url = \"https://archive.ics.uci.edu/static/public/186/wine+quality.zip\"\n",
    "\n",
    "# Baixar o arquivo ZIP\n",
    "response = requests.get(url)\n",
    "zip_file = zipfile.ZipFile(io.BytesIO(response.content))\n",
    "\n",
    "# Escolher o arquivo CSV a ser lido (por exemplo, 'winequality-red.csv')\n",
    "file_to_read = 'winequality-red.csv'\n",
    "\n",
    "# Ler o arquivo CSV dentro do ZIP\n",
    "df = pd.read_csv(zip_file.open(file_to_read),sep=\";\")\n",
    "\n",
    "\n",
    "df['target_column'] = df['quality']  # Renomeando a coluna alvo\n",
    "df = df.drop('quality', axis=1)      # Remocendo a coluna antiga \n",
    "\n",
    "#print(df)"
   ]
  },
  {
   "cell_type": "code",
   "execution_count": 162,
   "metadata": {},
   "outputs": [
    {
     "name": "stdout",
     "output_type": "stream",
     "text": [
      "12\n",
      "Teste:\n",
      "[7, 10, 4, 4, 5, 9, 5, 5, 6, 4, 4, 4, 7, 5, 4, 5, 5, 4, 6, 7, 6, 4, 4, 5, 5, 6, 4, 4, 5, 4, 4, 5, 4, 7, 5, 5, 4, 4, 5, 5, 4, 5, 3, 4, 6, 4, 5, 6, 7, 7, 8, 4, 5, 4, 6, 4, 4, 4, 4, 5, 6, 4, 5, 5, 6, 5, 5, 7, 7, 6, 4, 5, 4, 6, 6, 5, 4, 5, 4, 4, 4, 4, 4, 7, 6, 5, 4, 4, 8, 5, 6, 4, 4, 5, 4, 4, 6, 5, 4, 5, 4, 5, 7, 6, 5, 5, 4, 5, 4, 4, 4, 7, 4, 6, 4, 6, 4, 4, 7, 6, 5, 4, 4, 5, 4, 9, 5, 5, 5, 4, 4, 4, 4, 9, 4, 4, 4, 7, 4, 6, 5, 5, 5, 4, 5, 8, 5, 5, 8, 4, 4, 4, 5, 6, 5, 5, 4, 5, 4, 4, 7, 4, 6, 5, 6, 5, 5, 5, 4, 6, 5, 5, 7, 7, 5, 7, 4, 5, 4, 8, 6, 6, 7, 4, 4, 6, 4, 4, 4, 6, 5, 4, 6, 4, 7, 4, 8, 4, 5, 6, 9, 4, 5, 4, 4, 5, 4, 5, 6, 5, 7, 4, 6, 4, 4, 5, 4, 9, 4, 4, 8, 6, 4, 5, 4, 4, 4, 4, 6, 5, 5, 4, 4, 4, 6, 6, 4, 4, 4, 5, 8, 6, 4, 7, 4, 4, 4, 8, 5, 4, 4, 5, 5, 4, 4, 4, 4, 7, 7, 6, 4, 7, 5, 5, 7, 4, 4, 7, 4, 4, 5, 6, 4, 8, 5, 7, 6, 5, 9, 4, 7, 8, 5, 5, 5, 5, 5, 9, 4, 4, 4, 4, 9, 4, 4, 5, 4, 6, 4, 6, 7, 4, 9, 4, 8, 6, 5, 6, 5, 5, 4, 5, 4, 4, 5, 7, 4, 7, 4, 6, 4, 7, 4, 6, 5, 4, 5, 5, 7, 4, 4, 6, 5, 4, 4, 4, 5, 4, 4, 4, 6, 6, 7, 4, 7, 5, 4, 4, 4, 7, 4, 7, 5, 4, 4, 4, 4, 6, 5, 4, 7, 4, 7, 5, 4, 4, 5, 6, 5, 6, 4, 4, 5, 4, 6, 7, 5, 7, 4, 4, 4, 4, 4, 4, 6, 4, 5, 5, 7, 5, 5, 6, 6, 5, 4, 7, 7, 5, 7, 6, 4, 4, 4, 7, 4, 5, 4, 4, 5, 5, 5, 4, 5, 5, 7, 4, 7, 5, 5, 4, 8, 4, 5, 5, 6, 4, 5, 4, 5, 4, 7, 5, 6, 4, 4, 4, 4, 4, 5, 6, 4, 5, 6, 6, 7, 4, 4, 7, 7, 5, 4, 6, 4, 9, 4, 7, 4, 4, 5, 5, 5, 4, 5, 4, 7, 5, 5, 4, 8, 4, 5, 4, 4, 5, 5, 8, 5, 4, 5, 5, 4, 5, 5, 4, 5, 7, 5, 4, 4, 5, 7, 6, 8, 7, 4, 4, 6, 5, 6, 7, 4, 7, 6, 4, 4, 5, 4, 7, 5, 4, 6, 6, 5, 4, 4, 5, 4, 5, 4, 4, 5, 5, 5, 7, 4, 4, 4, 4, 4, 4, 6, 4, 4, 6, 5, 5, 5, 5, 4, 6, 4, 7, 4, 4, 4, 4, 7, 7, 5, 7, 4, 5, 4, 4, 9, 5, 6, 4, 5, 5, 5, 4, 6, 4, 6, 6, 5, 4, 5, 6, 6, 7, 5, 5, 4, 5, 4, 5, 4, 4, 4, 5, 4, 5, 5, 5, 4, 4, 4, 6, 9, 5, 4, 8, 5, 6, 5, 4, 9, 4, 6, 4, 5, 4, 4, 5, 6, 5, 4, 7, 5, 4, 5, 5, 8, 4, 5, 5, 5, 4, 4, 6, 4, 6, 5, 4, 8, 5, 5, 6, 7, 5, 4, 5, 7, 4, 4, 4, 5, 5, 4, 4, 4, 7, 4, 4, 4, 4, 4, 5, 5, 8, 5, 4, 4, 4, 4, 4, 5, 5, 5, 5, 5, 5, 6, 8, 6, 5, 5, 6, 4, 4, 4, 5, 6, 6, 4, 6, 5, 5, 4, 4, 8, 4, 5, 5, 4, 4, 7, 4, 8, 4, 4, 5, 6, 5, 4, 6, 4, 6, 4, 8, 4, 4, 5, 4, 7, 5, 4, 4, 7, 6, 4, 4, 5, 9, 4, 4, 7, 6, 4, 7, 7, 5, 7, 6, 4, 6, 4, 4, 4, 4, 7, 5, 5, 5, 4, 4, 7, 4, 6, 4, 5, 4, 4, 6, 6, 4, 4, 5, 5, 6, 4, 5, 4, 5, 5, 5, 6, 4, 5, 8, 8, 5, 4, 4, 4, 4, 4, 4, 4, 8, 7, 5, 5, 4, 4, 7, 4, 4, 6, 4, 5, 6, 5, 8, 4, 4, 6, 4, 4, 4, 6, 5, 5, 4, 7, 8, 6, 4, 4, 7, 4, 4, 4, 7, 5, 7, 5, 4, 4, 5, 9, 4, 7, 4, 5, 4, 5, 5, 5, 6, 5, 4, 6, 4, 5, 4, 5, 4, 4, 4, 4, 5, 4, 4, 6, 4, 7, 4, 4, 5, 8, 4, 6, 4, 4, 5, 6, 4, 4, 5, 7, 5, 4, 4, 6, 5, 4, 14, 4, 7, 4, 4, 5, 4, 4, 5, 6, 5, 4, 8, 7, 6, 4, 5, 5, 5, 4, 6, 5, 5, 6, 4, 4, 4, 7, 6, 7, 4, 8, 5, 4, 4, 6, 4, 5, 5, 5, 4, 6, 5, 4, 5, 5, 6, 6, 5, 9, 4, 5, 5, 7, 5, 4, 4, 4, 4, 7, 4, 5, 7, 4, 8, 4, 6, 6, 4, 5, 4, 5, 4, 4, 6, 4, 4, 8, 7, 5, 8, 7, 4, 5, 4, 5, 4, 5, 7, 4, 5, 4, 8, 6, 5, 7, 6, 7, 4, 4, 6, 4, 4, 4, 5, 5, 5, 6, 4, 4, 4, 5, 4, 4, 5, 5, 5, 5, 5, 5, 6, 6, 4, 5, 7, 4, 4, 7, 4, 4, 4, 5, 5, 5, 4, 7, 5, 5, 5, 5, 5, 6, 5, 5, 4, 8, 6, 5, 4, 8, 4, 5, 9, 4, 4, 4, 4, 5, 6, 5, 5, 4, 4, 4, 5, 6, 4, 5, 5, 4, 6, 5, 7, 6, 4, 4, 6, 5, 5, 7, 6, 4, 9, 4, 8, 5, 6, 4, 4, 6, 4, 5, 4, 4, 7, 5, 4, 4, 8, 4, 5, 5, 5, 5, 6, 8, 5, 5, 4, 6, 9, 6, 6, 7, 6, 5, 4, 4, 6, 7, 4, 4, 6, 7, 4, 5, 6, 4, 6, 4, 5, 7, 4, 4, 4, 5, 7, 9, 6, 5, 8, 5, 4, 4, 4, 7, 6, 4, 4, 4, 4, 7, 6, 5, 6, 8, 4, 5, 6, 4, 7, 5, 4, 7, 4, 6, 5, 4, 6, 7, 5, 4, 4, 4, 5, 5, 6, 5, 6, 6, 5, 4, 5, 4, 4, 4, 4, 4, 7, 7, 4, 4, 7, 4, 4, 5, 7, 8, 7, 4, 5, 4, 5, 6, 4, 4, 4, 5, 7, 5, 4, 9, 5, 4, 4, 6, 4, 5, 5, 8, 4, 6, 6, 5, 4, 4, 6, 4, 4, 5, 5, 4, 5, 9, 4, 6, 5, 4, 4, 6, 4, 7, 4, 5, 4, 4, 4, 5, 4, 6, 4, 4, 5, 5, 8, 6, 5, 5, 3, 5, 4, 4, 5, 4, 5, 4, 7, 5, 6, 4, 4, 6, 6, 4, 4, 8, 4, 5, 5, 9, 6, 4, 4, 5, 6, 4, 6, 6, 4, 6, 4, 5, 8, 4, 4, 5, 5, 4, 5, 6, 4, 4, 4, 8, 5, 5, 4, 4, 4, 5, 4, 5, 5, 5, 4, 4, 6, 6, 4, 4]\n",
      "Gabarito:\n",
      "[6, 6, 6, 5, 5, 5, 6, 6, 6, 6, 4, 7, 6, 6, 6, 5, 6, 7, 5, 5, 6, 7, 5, 5, 6, 5, 6, 5, 6, 5, 5, 6, 5, 6, 6, 6, 5, 6, 4, 5, 4, 5, 5, 6, 5, 6, 6, 5, 5, 5, 5, 5, 6, 5, 6, 6, 6, 5, 5, 6, 5, 5, 6, 6, 6, 7, 6, 5, 5, 6, 6, 5, 5, 6, 7, 6, 5, 6, 5, 7, 5, 5, 7, 5, 6, 7, 7, 6, 6, 5, 6, 6, 7, 6, 5, 7, 6, 6, 6, 5, 5, 5, 5, 5, 6, 5, 5, 5, 7, 6, 7, 6, 4, 5, 7, 5, 5, 5, 6, 6, 6, 6, 6, 5, 6, 5, 6, 5, 6, 6, 7, 4, 6, 5, 6, 6, 7, 5, 7, 5, 5, 6, 5, 5, 6, 5, 6, 5, 5, 6, 6, 4, 5, 6, 5, 7, 8, 6, 7, 4, 7, 5, 5, 6, 5, 6, 7, 5, 5, 5, 6, 5, 5, 5, 6, 5, 7, 5, 5, 5, 5, 6, 6, 5, 6, 5, 6, 6, 7, 6, 6, 7, 5, 3, 5, 8, 4, 6, 7, 5, 6, 5, 7, 4, 7, 7, 5, 5, 6, 6, 5, 7, 5, 6, 6, 5, 4, 5, 5, 6, 5, 5, 6, 5, 5, 5, 7, 5, 6, 6, 6, 5, 6, 5, 5, 5, 5, 6, 6, 7, 5, 6, 6, 6, 5, 5, 5, 5, 5, 6, 6, 5, 6, 6, 5, 5, 5, 8, 5, 5, 5, 5, 5, 7, 5, 7, 6, 5, 5, 5, 6, 6, 5, 5, 4, 5, 6, 5, 5, 6, 5, 5, 7, 6, 5, 6, 6, 5, 6, 5, 5, 5, 5, 7, 7, 5, 7, 6, 5, 6, 5, 4, 5, 6, 5, 7, 5, 6, 4, 5, 6, 5, 5, 5, 7, 5, 6, 5, 5, 6, 6, 5, 5, 5, 4, 6, 4, 6, 7, 5, 7, 6, 6, 5, 5, 7, 4, 7, 6, 6, 6, 6, 5, 6, 5, 5, 5, 6, 5, 5, 5, 6, 5, 8, 4, 5, 7, 6, 7, 5, 6, 5, 5, 5, 6, 5, 6, 5, 7, 6, 5, 7, 6, 8, 5, 5, 5, 5, 7, 6, 8, 5, 5, 6, 6, 6, 6, 5, 5, 6, 6, 6, 5, 7, 5, 7, 5, 5, 6, 5, 6, 6, 5, 6, 6, 7, 6, 7, 5, 5, 5, 5, 5, 5, 6, 5, 5, 5, 7, 6, 5, 6, 5, 6, 5, 6, 6, 7, 6, 5, 5, 7, 5, 7, 5, 5, 6, 5, 5, 5, 6, 5, 5, 5, 5, 5, 7, 5, 5, 6, 5, 4, 5, 5, 6, 5, 5, 3, 6, 6, 6, 5, 6, 6, 5, 6, 5, 7, 5, 6, 5, 5, 6, 6, 6, 5, 5, 6, 5, 7, 5, 5, 7, 6, 6, 5, 6, 5, 6, 5, 5, 5, 6, 5, 7, 7, 5, 5, 5, 5, 5, 5, 5, 6, 6, 3, 5, 5, 6, 6, 5, 6, 7, 5, 5, 7, 6, 6, 6, 6, 7, 6, 6, 5, 7, 7, 7, 5, 5, 6, 5, 5, 6, 5, 6, 6, 6, 8, 6, 5, 6, 5, 5, 6, 6, 6, 5, 4, 6, 6, 6, 6, 6, 6, 5, 5, 8, 4, 5, 5, 6, 6, 6, 7, 5, 5, 6, 6, 6, 6, 6, 6, 6, 5, 5, 6, 7, 6, 4, 5, 5, 5, 5, 5, 6, 6, 5, 4, 7, 6, 5, 7, 7, 5, 5, 5, 6, 6, 5, 6, 5, 5, 6, 6, 6, 6, 5, 5, 7, 5, 6, 6, 5, 6, 5, 6, 5, 7, 5, 6, 5, 6, 5, 5, 6, 6, 5, 5, 6, 6, 7, 6, 5, 5, 7, 6, 5, 5, 6, 7, 6, 6, 6, 7, 5, 6, 7, 6, 6, 4, 7, 5, 5, 5, 5, 6, 6, 7, 6, 6, 5, 7, 6, 6, 6, 5, 6, 5, 7, 6, 5, 6, 8, 5, 6, 6, 6, 6, 5, 6, 6, 5, 4, 6, 6, 5, 6, 5, 7, 5, 5, 6, 7, 5, 6, 5, 6, 5, 6, 5, 7, 5, 6, 6, 6, 7, 6, 8, 6, 5, 6, 5, 6, 4, 5, 5, 6, 7, 5, 5, 5, 6, 6, 5, 5, 7, 7, 5, 6, 7, 7, 5, 5, 5, 7, 6, 5, 6, 5, 5, 6, 6, 5, 7, 6, 7, 6, 6, 5, 5, 5, 5, 5, 5, 7, 7, 5, 6, 5, 6, 5, 5, 5, 4, 6, 6, 8, 6, 6, 5, 5, 5, 5, 6, 6, 5, 5, 5, 5, 5, 5, 7, 5, 5, 5, 5, 4, 5, 6, 6, 5, 5, 6, 6, 5, 8, 5, 5, 5, 7, 3, 5, 7, 5, 5, 6, 6, 6, 5, 7, 6, 6, 5, 6, 6, 6, 5, 6, 7, 5, 5, 5, 5, 6, 5, 5, 5, 6, 6, 6, 7, 5, 7, 7, 6, 6, 6, 7, 5, 5, 6, 6, 5, 5, 4, 6, 6, 6, 6, 5, 5, 6, 4, 6, 5, 7, 6, 6, 6, 7, 4, 6, 5, 5, 5, 7, 6, 5, 6, 5, 6, 5, 5, 5, 4, 6, 6, 5, 7, 5, 5, 6, 6, 7, 7, 5, 7, 5, 5, 5, 5, 6, 6, 6, 6, 5, 5, 6, 4, 6, 5, 5, 6, 6, 5, 6, 7, 6, 5, 6, 7, 5, 6, 7, 5, 6, 5, 6, 6, 6, 6, 5, 6, 5, 5, 6, 5, 5, 6, 5, 5, 5, 6, 4, 6, 5, 5, 6, 6, 5, 6, 7, 5, 6, 6, 3, 6, 6, 3, 5, 5, 5, 5, 6, 7, 6, 6, 6, 6, 5, 5, 5, 5, 6, 7, 7, 6, 5, 6, 6, 5, 7, 6, 6, 5, 5, 6, 5, 3, 6, 6, 6, 6, 6, 6, 6, 5, 5, 6, 5, 7, 5, 6, 7, 5, 5, 7, 6, 6, 6, 5, 7, 6, 6, 5, 4, 6, 5, 5, 5, 6, 5, 7, 6, 7, 6, 6, 5, 6, 7, 5, 5, 6, 6, 5, 6, 5, 6, 6, 6, 5, 5, 5, 6, 5, 7, 5, 6, 5, 6, 6, 5, 4, 5, 5, 5, 7, 6, 6, 5, 5, 5, 6, 5, 7, 6, 6, 5, 5, 5, 5, 5, 5, 6, 5, 6, 5, 6, 6, 5, 5, 5, 5, 5, 6, 7, 5, 6, 6, 6, 6, 5, 5, 6, 6, 6, 5, 6, 7, 6, 5, 6, 7, 5, 6, 5, 5, 7, 6, 5, 5, 6, 5, 7, 5, 5, 7, 5, 6, 6, 5, 6, 6, 5, 5, 7, 5, 6, 6, 7, 5, 6, 6, 6, 6, 6, 5, 5, 5, 7, 7, 5, 6, 6, 6, 5, 4, 5, 6, 5, 6, 6, 5, 5, 5, 6, 6, 7, 5, 7, 7, 5, 7, 6, 5, 5, 6, 7, 6, 7, 6, 6, 5, 7, 7, 4, 5, 6, 6, 5, 5, 6, 6, 7, 6, 5, 5, 5, 5, 6, 6, 5, 5, 5, 7, 6, 5, 8, 6, 5, 6, 6, 5, 4, 6, 6, 6, 5, 6, 5, 5, 6, 6, 6, 6, 7, 5, 5, 6, 7, 3, 6, 6, 6, 4, 6, 6, 4, 6, 6, 5, 6, 4, 6, 6, 5, 7, 6, 5, 6, 6, 6, 6, 6, 5, 6, 5, 6, 5, 5, 6, 6, 5, 6, 6, 6, 5, 5, 5, 5, 3, 5, 6, 5, 6, 6, 7, 5, 6, 6, 5, 6, 5, 5, 6, 5, 5, 4, 6, 4, 6, 6, 6, 5, 6, 6, 5, 7, 6]\n"
     ]
    },
    {
     "data": {
      "image/png": "[encoded data removed]",
      "text/plain": [
       "<Figure size 640x480 with 1 Axes>"
      ]
     },
     "metadata": {},
     "output_type": "display_data"
    }
   ],
   "source": [
    "X = df.drop('target_column', axis=1)\n",
    "y = df['target_column']\n",
    "X_train, X_test, y_train, y_test = train_test_split(X, y, test_size=0.2, random_state=42)\n",
    "trainer = LMSTrainer()\n",
    "num_columns = X.shape[1] + 1\n",
    "print(num_columns)\n",
    "theta = [0] * num_columns \n",
    "theta[0] = 3\n",
    "predictor = trainer.fit(X_train.values, theta, y_train.values)\n",
    "predictor.predict(X_train.values, theta, y_train.values)\n",
    "\n",
    "plt.figure()\n",
    "plt.plot(eixo_Y, eixo_X, marker='o', linestyle='-')\n",
    "plt.title('Convergência da Função de Custo')\n",
    "plt.xlabel('Número de Iterações')\n",
    "plt.ylabel('Valor da Função de Custo')\n",
    "plt.grid(True)\n",
    "plt.show()"
   ]
  }
 ],
 "metadata": {
  "kernelspec": {
   "display_name": "Python 3",
   "language": "python",
   "name": "python3"
  },
  "language_info": {
   "codemirror_mode": {
    "name": "ipython",
    "version": 3
   },
   "file_extension": ".py",
   "mimetype": "text/x-python",
   "name": "python",
   "nbconvert_exporter": "python",
   "pygments_lexer": "ipython3",
   "version": "3.8.10"
  },
  "orig_nbformat": 4
 },
 "nbformat": 4,
 "nbformat_minor": 2
}
