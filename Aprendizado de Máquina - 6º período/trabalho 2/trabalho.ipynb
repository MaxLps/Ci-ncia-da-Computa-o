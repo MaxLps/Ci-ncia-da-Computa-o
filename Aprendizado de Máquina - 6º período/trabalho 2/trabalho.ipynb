{
 "cells": [
  {
   "cell_type": "code",
   "execution_count": 196,
   "metadata": {},
   "outputs": [],
   "source": [
    "from sklearn.base import BaseEstimator\n",
    "import matplotlib.pyplot as plt"
   ]
  },
  {
   "cell_type": "code",
   "execution_count": 197,
   "metadata": {},
   "outputs": [],
   "source": [
    "def h(x, i, theta):\n",
    "    \n",
    "    h = theta[0]\n",
    "    \n",
    "    for j in range(1, len(theta)):\n",
    "        h += x[i][j-1] * theta[j]\n",
    "    \n",
    "    return h"
   ]
  },
  {
   "cell_type": "code",
   "execution_count": 198,
   "metadata": {},
   "outputs": [],
   "source": [
    "ALFA = 0.0001\n",
    "\n",
    "def gradiente_descendente(x,y,theta):\n",
    "    ite = 0\n",
    "    temp = [0] * len(theta)    \n",
    "    \n",
    "    m = len(x)\n",
    "    n = len(theta)\n",
    "    \n",
    "    max_diff = 10\n",
    "    \n",
    "    while max_diff > 0.001:\n",
    "        for i in range(m):\n",
    "            \n",
    "            custo = 0\n",
    "            for j in range(n):\n",
    "                custo += (h(x, i, theta) - y[i]) \n",
    "            \n",
    "            temp[0] = theta[0] - ALFA/m * custo\n",
    "            \n",
    "            for j in range(1, n):\n",
    "                temp[j] = theta[j] - ALFA/m * custo * x[i][j-1]   \n",
    "\n",
    "            max_diff = min(abs(temp[i] - theta[i]) for i in range(len(theta)))\n",
    "        \n",
    "            for i in range(n):\n",
    "                theta[i] = temp[i]\n",
    "        ite += 1\n",
    "    print(ite)"
   ]
  },
  {
   "cell_type": "code",
   "execution_count": 199,
   "metadata": {},
   "outputs": [],
   "source": [
    "class LMSTrainer(BaseEstimator):\n",
    "    \n",
    "    def __init__(self, analitic=False):\n",
    "            \n",
    "        self.analitic = analitic\n",
    "        self._trained = False\n",
    "            \n",
    "    def fit(self, X, theta,y=None):\n",
    "        if self.analitic:\n",
    "            \n",
    "            # TODO: FAZER POR MATRIZES\n",
    "            pass\n",
    "        else:\n",
    "            gradiente_descendente(X,y, theta)\n",
    "        \n",
    "        self._trained = True\n",
    "        \n",
    "        return self\n",
    "        \n",
    "    def predict(self, X, y=None):\n",
    "        \n",
    "        if not self._trained:\n",
    "            raise RuntimeError(\"You must train classifer before predicting data!\")\n",
    "        \n",
    "        return 1# resultado   "
   ]
  },
  {
   "cell_type": "code",
   "execution_count": 200,
   "metadata": {},
   "outputs": [
    {
     "name": "stdout",
     "output_type": "stream",
     "text": [
      "128977\n",
      "[2419.7518849101457, 2127.2091594560743, 1330.8666926374633, 1774.201674303349, 1841.9695725437032, 1616.7522220765863, 1226.3635661035753] [513.6896293528888, 10.450312653388776, 23.981770577651776, -43.47566209093166, 60.33270201702496, 97.06793031055872]\n"
     ]
    }
   ],
   "source": [
    "# 10 50 30 90 40 100\n",
    "x = [[156,2,2,2,2,4.3],\n",
    "     [135,3,2,2,1,3.4],\n",
    "     [65,1,1,1,1,4.8],\n",
    "     [100,2,2,1,2,4.2],\n",
    "     [110,2,2,2,1,3.9],\n",
    "     [75,2,1,2,2,4.6],\n",
    "     [55,1,1,1,1,4.4]]\n",
    "\n",
    "y = [2417,2130,1345,1784,1840,1610,1235]\n",
    "theta = [10,50,30,90,40,100]\n",
    "# theta = [0,0,0,0,0,0,0]\n",
    "\n",
    "x2 = [[54,1,1,2,4,2.0],\n",
    "      [455,8,9,20,5,5],\n",
    "      [10,1,0,0,0,1],\n",
    "      [101,2,4,1,1,3],\n",
    "      [70,2,4,0,0,2.3],\n",
    "      [47,2,1,1,1,4],\n",
    "      [87,3,2,2,2,4.5]]\n",
    "\n",
    "\n",
    "# x = [[2],\n",
    "#     [2.4],\n",
    "#     [1.5],\n",
    "#     [3.5],\n",
    "#     [3.5],\n",
    "#     [3.7],\n",
    "#     [3.7],\n",
    "#     [2.4]]\n",
    "\n",
    "# theta = [0,0]\n",
    "\n",
    "\n",
    "# y = [196, 221, 136, 255, 244, 232, 267, 212]\n",
    "\n",
    "trainer = LMSTrainer()\n",
    "predictor = trainer.fit(x,theta,y)\n",
    "\n",
    "teste = [0] * len(y)\n",
    "for i in range(len(x)):\n",
    "    teste[i] = h(x, i, theta)\n",
    "    \n",
    "print(teste, theta)"
   ]
  }
 ],
 "metadata": {
  "kernelspec": {
   "display_name": "Python 3",
   "language": "python",
   "name": "python3"
  },
  "language_info": {
   "codemirror_mode": {
    "name": "ipython",
    "version": 3
   },
   "file_extension": ".py",
   "mimetype": "text/x-python",
   "name": "python",
   "nbconvert_exporter": "python",
   "pygments_lexer": "ipython3",
   "version": "3.8.10"
  },
  "orig_nbformat": 4
 },
 "nbformat": 4,
 "nbformat_minor": 2
}
